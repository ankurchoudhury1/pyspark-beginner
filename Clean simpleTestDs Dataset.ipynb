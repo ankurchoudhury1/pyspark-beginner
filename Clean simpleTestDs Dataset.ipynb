{
 "cells": [
  {
   "cell_type": "markdown",
   "id": "a87ac043-6e93-43dd-92c1-6e01807afff5",
   "metadata": {},
   "source": [
    "### Path to CSV"
   ]
  },
  {
   "cell_type": "code",
   "execution_count": 15,
   "id": "a87e9fc6-d42b-4426-9111-a02004319600",
   "metadata": {},
   "outputs": [],
   "source": [
    "path = r\"C:\\Users\\ankur\\Downloads\\Datasets\\simpleTestDs.csv\""
   ]
  },
  {
   "cell_type": "markdown",
   "id": "1ccf9bef-a399-44c7-a5aa-f6c4ed52acd1",
   "metadata": {},
   "source": [
    "### Initialize Findspark\n",
    "#### Helps locate PySpark in local environment"
   ]
  },
  {
   "cell_type": "code",
   "execution_count": 16,
   "id": "e7658e22-207f-4716-a938-780a71839c61",
   "metadata": {},
   "outputs": [],
   "source": [
    "import findspark\n",
    "findspark.init()"
   ]
  },
  {
   "cell_type": "markdown",
   "id": "eb8ebd8c-a5f8-488a-820a-764ea5444486",
   "metadata": {},
   "source": [
    "### Import Pyspark and Necessary Libraries"
   ]
  },
  {
   "cell_type": "code",
   "execution_count": 18,
   "id": "7c27ac8b-af59-48b7-84c4-1eb792fddf79",
   "metadata": {},
   "outputs": [],
   "source": [
    "import pyspark\n",
    "from pyspark.sql import *\n",
    "from pyspark.sql.types import *\n",
    "from pyspark.sql.functions import *\n",
    "from pyspark.sql.functions import upper"
   ]
  },
  {
   "cell_type": "markdown",
   "id": "3dc8be7d-ec80-47d9-973d-198660ff71ed",
   "metadata": {},
   "source": [
    "### Initialize SparkSession"
   ]
  },
  {
   "cell_type": "code",
   "execution_count": 19,
   "id": "4cc7e18a-49fe-40a8-b63b-ed7daa3cd1fc",
   "metadata": {},
   "outputs": [],
   "source": [
    "ss = SparkSession.builder.master('local').appName('appOne').getOrCreate()"
   ]
  },
  {
   "cell_type": "markdown",
   "id": "f35251fd-dbd1-4c17-873f-b17d6b2ab0ed",
   "metadata": {},
   "source": [
    "### Read the CSV"
   ]
  },
  {
   "cell_type": "code",
   "execution_count": 20,
   "id": "95a400d2-fc79-4803-8d73-b1b259b3163e",
   "metadata": {},
   "outputs": [],
   "source": [
    "df = ss.read.options(header=True, inferSchema=True).csv(path)\n",
    "df.show()"
   ]
  },
  {
   "cell_type": "markdown",
   "id": "94395afd-ebb9-4128-aa65-1eac654e7e0b",
   "metadata": {},
   "source": [
    "### Define UDFS"
   ]
  },
  {
   "cell_type": "code",
   "execution_count": 22,
   "id": "15d0da47-8296-41fd-83df-30cb600b4765",
   "metadata": {},
   "outputs": [],
   "source": [
    "def fixAge(age):\n",
    "    if age>110:\n",
    "        return age-100\n",
    "    return age\n",
    "\n",
    "fixAgeUDF = udf(lambda x: fixAge(x), IntegerType())"
   ]
  },
  {
   "cell_type": "markdown",
   "id": "40972df1-1582-47ce-b5ee-a5a49f876787",
   "metadata": {},
   "source": [
    "### Transformations\n",
    "#### 1. fix name errors\n",
    "#### 2. interchange age and sal for id=3\n",
    "#### 3. fix age over 100 = age-100\n",
    "#### 4. fix sal errors\n",
    "#### 5. set new schema"
   ]
  },
  {
   "cell_type": "code",
   "execution_count": 23,
   "id": "d214b426-9057-48ef-b10d-99c8f0a16d83",
   "metadata": {},
   "outputs": [
    {
     "name": "stdout",
     "output_type": "stream",
     "text": [
      "+---+-------+--------+-----+-----+\n",
      "| id|  fname|   lname|  age|  sal|\n",
      "+---+-------+--------+-----+-----+\n",
      "|  1|    jim| halpert|  135|40000|\n",
      "|  2|    pam|  beesly|   34|36000|\n",
      "|  3|michael|   scott|60000|   41|\n",
      "|  4|   toby|flencher|   44|66000|\n",
      "|  5|  oscar|martinez|   38|42000|\n",
      "+---+-------+--------+-----+-----+\n",
      "\n"
     ]
    }
   ],
   "source": [
    "df = df.withColumn('fname', lower(df.fname))\n",
    "df = df.withColumn('lname', lower(df.lname))\n",
    "df = df.withColumn('lname', regexp_replace('lname', 'halperts', 'halpert'))\n",
    "df = df.withColumn('sal', regexp_replace('sal', ',', ''))\n",
    "df = df.withColumn('sal', regexp_replace('sal', '\\$', ''))\n",
    "\n",
    "df.show()"
   ]
  },
  {
   "cell_type": "code",
   "execution_count": 24,
   "id": "987372b9-e16b-4bba-b6da-41b3430d43ff",
   "metadata": {},
   "outputs": [
    {
     "name": "stdout",
     "output_type": "stream",
     "text": [
      "+---+-------+--------+---+-----+\n",
      "| id|  fname|   lname|age|  sal|\n",
      "+---+-------+--------+---+-----+\n",
      "|  1|    jim| halpert|135|40000|\n",
      "|  2|    pam|  beesly| 34|36000|\n",
      "|  3|michael|   scott| 41|60000|\n",
      "|  4|   toby|flencher| 44|66000|\n",
      "|  5|  oscar|martinez| 38|42000|\n",
      "+---+-------+--------+---+-----+\n",
      "\n"
     ]
    }
   ],
   "source": [
    "df = df.withColumn(\"age\", when(df[\"id\"]==3, 41).otherwise(df['age']))\n",
    "df = df.withColumn(\"sal\", when(df[\"id\"]==3, 60000).otherwise(df['sal']))\n",
    "\n",
    "df.show()"
   ]
  },
  {
   "cell_type": "code",
   "execution_count": 25,
   "id": "f6270283-06d9-40d3-b343-e69ba6801412",
   "metadata": {},
   "outputs": [],
   "source": [
    "df = df.withColumn('age', fixAgeUDF(df.age)) # comes after age-sal interchange for id=3"
   ]
  },
  {
   "cell_type": "markdown",
   "id": "95447b2c-22a1-4130-b9ca-92ea7852a0e1",
   "metadata": {},
   "source": [
    "### Check Schema"
   ]
  },
  {
   "cell_type": "code",
   "execution_count": 27,
   "id": "856f1743-0768-4328-bb6c-1d45db715992",
   "metadata": {},
   "outputs": [
    {
     "name": "stdout",
     "output_type": "stream",
     "text": [
      "root\n",
      " |-- id: integer (nullable = true)\n",
      " |-- fname: string (nullable = true)\n",
      " |-- lname: string (nullable = true)\n",
      " |-- age: integer (nullable = true)\n",
      " |-- sal: string (nullable = true)\n",
      "\n"
     ]
    }
   ],
   "source": [
    "df.printSchema()"
   ]
  },
  {
   "cell_type": "markdown",
   "id": "6b42d6dc-e1ce-4c03-ad2e-567de47d03e1",
   "metadata": {},
   "source": [
    "### Change Datatype"
   ]
  },
  {
   "cell_type": "code",
   "execution_count": 29,
   "id": "02ca537b-09ac-4769-bbd8-57e5b7b47f04",
   "metadata": {},
   "outputs": [
    {
     "name": "stdout",
     "output_type": "stream",
     "text": [
      "+---+-------+--------+---+-------+\n",
      "| id|  fname|   lname|age|    sal|\n",
      "+---+-------+--------+---+-------+\n",
      "|  1|    jim| halpert| 35|40000.0|\n",
      "|  2|    pam|  beesly| 34|36000.0|\n",
      "|  3|michael|   scott| 41|60000.0|\n",
      "|  4|   toby|flencher| 44|66000.0|\n",
      "|  5|  oscar|martinez| 38|42000.0|\n",
      "+---+-------+--------+---+-------+\n",
      "\n"
     ]
    }
   ],
   "source": [
    "df = df.withColumn('sal', df['sal'].cast(\"float\"))\n",
    "df.show()"
   ]
  }
 ],
 "metadata": {
  "kernelspec": {
   "display_name": "Python 3 (ipykernel)",
   "language": "python",
   "name": "python3"
  },
  "language_info": {
   "codemirror_mode": {
    "name": "ipython",
    "version": 3
   },
   "file_extension": ".py",
   "mimetype": "text/x-python",
   "name": "python",
   "nbconvert_exporter": "python",
   "pygments_lexer": "ipython3",
   "version": "3.11.3"
  }
 },
 "nbformat": 4,
 "nbformat_minor": 5
}
